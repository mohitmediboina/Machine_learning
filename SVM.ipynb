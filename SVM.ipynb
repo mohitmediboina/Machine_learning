{
 "cells": [
  {
   "cell_type": "code",
   "execution_count": 1,
   "id": "26c6df4a",
   "metadata": {},
   "outputs": [
    {
     "name": "stderr",
     "output_type": "stream",
     "text": [
      "c:\\Users\\medib\\AppData\\Local\\Programs\\Python\\Python312\\Lib\\site-packages\\sklearn\\utils\\_param_validation.py:11: UserWarning: A NumPy version >=1.22.4 and <2.3.0 is required for this version of SciPy (detected version 2.3.1)\n",
      "  from scipy.sparse import csr_matrix, issparse\n"
     ]
    },
    {
     "name": "stdout",
     "output_type": "stream",
     "text": [
      "[1 2 0 2 2 2 1 2 0 0 2 1 2 1 2 1 2 0 1 0 1 2 2 1 1 0 1 2 0 0]\n",
      "\n",
      "Accuracy :  1.0\n",
      "Precision :  1.0\n",
      "Recall :  1.0\n",
      "F1-SCORE :  1.0\n",
      "AUC :  1.0\n"
     ]
    }
   ],
   "source": [
    "\n",
    "from sklearn import datasets\n",
    "iris = datasets.load_iris()\n",
    "\n",
    "x = iris.data\n",
    "y = iris.target\n",
    "\n",
    "from sklearn.model_selection import train_test_split\n",
    "x_train, x_test, y_train, y_test = train_test_split(x,y,train_size=0.8)\n",
    "\n",
    "from sklearn import svm\n",
    "svc_cl = svm.SVC(probability=True)\n",
    "\n",
    "train = svc_cl.fit(x_train, y_train)\n",
    "y_pred = svc_cl.predict(x_test)\n",
    "print(y_pred)\n",
    "y_auc = svc_cl.predict_proba(x_test)\n",
    "\n",
    "from sklearn.metrics import accuracy_score, precision_score, recall_score, f1_score, roc_auc_score\n",
    "Accuracy = accuracy_score(y_test, y_pred)\n",
    "Precision = precision_score(y_test, y_pred, average='macro')\n",
    "Recall = recall_score(y_test, y_pred, average='macro')\n",
    "f1 = f1_score(y_test, y_pred, average='macro')\n",
    "auc = roc_auc_score(y_test, y_auc, multi_class='ovr')\n",
    "\n",
    "print(\"\\nAccuracy : \", Accuracy)\n",
    "print(\"Precision : \", Precision)\n",
    "print(\"Recall : \", Recall)\n",
    "print(\"F1-SCORE : \", f1)\n",
    "print(\"AUC : \", auc)"
   ]
  },
  {
   "cell_type": "code",
   "execution_count": null,
   "id": "08bd247b",
   "metadata": {},
   "outputs": [],
   "source": []
  }
 ],
 "metadata": {
  "kernelspec": {
   "display_name": "Python 3",
   "language": "python",
   "name": "python3"
  },
  "language_info": {
   "codemirror_mode": {
    "name": "ipython",
    "version": 3
   },
   "file_extension": ".py",
   "mimetype": "text/x-python",
   "name": "python",
   "nbconvert_exporter": "python",
   "pygments_lexer": "ipython3",
   "version": "3.12.4"
  }
 },
 "nbformat": 4,
 "nbformat_minor": 5
}
