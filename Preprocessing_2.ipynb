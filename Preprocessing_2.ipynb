{
 "cells": [
  {
   "cell_type": "code",
   "execution_count": 2,
   "id": "0155831a",
   "metadata": {},
   "outputs": [
    {
     "name": "stdout",
     "output_type": "stream",
     "text": [
      "Barak Obama is the 44th President of the United States.And he was born in Hawaii.He  went as a prime minister of USA in the year of 2015 .\n",
      "LOWERCASE :  barak obama is the 44th president of the united states.and he was born in hawaii.he  went as a prime minister of usa in the year of 2015 .\n",
      "REGULAR EXP-1 :  barak obama is the Forty Forthth president of the united states.and he was born in hawaii.he  went as a prime minister of usa in the year of 2015 .\n",
      "REGULAR EXP-2 :  **r** o**** *s t** 44t* pr*s***nt o* t** un*t** st*t*s.*n* ** w*s *orn *n **w***.**  w*nt *s * pr*** **n*st*r o* us* *n t** y**r o* 2015 .\n",
      "REGULAR EXP-3 :  barak obama is the 44th president of the united states.and he was born in hawaii.he  went as a prime minister of usa in the year of 2015 .\n",
      "WORD TOKENS :  ['Barak', 'Obama', 'is', 'the', '44th', 'President', 'of', 'the', 'United', 'States.And', 'he', 'was', 'born', 'in', 'Hawaii.He', 'went', 'as', 'a', 'prime', 'minister', 'of', 'USA', 'in', 'the', 'year', 'of', '2015', '.']\n",
      "SENTENCE TOKENS :  ['Barak Obama is the 44th President of the United States.And he was born in Hawaii.He  went as a prime minister of USA in the year of 2015 .']\n",
      "1\n",
      "Barak Obama 44th President United States.And born Hawaii.He went prime minister USA year 2015 .\n"
     ]
    }
   ],
   "source": [
    "input = \"Barak Obama is the 44th President of the United States.And he was born in Hawaii.He  went as a prime minister of USA in the year of 2015 .\"\n",
    "\n",
    "print(input)\n",
    "\n",
    "\n",
    "lowercase = input.lower()\n",
    "print(\"LOWERCASE : \",lowercase)\n",
    "\n",
    "import re\n",
    "lowercase_re = re.sub(\"44\", \"Forty Forth\", lowercase)\n",
    "print(\"REGULAR EXP-1 : \",lowercase_re)\n",
    "\n",
    "lowercase_re1 = re.sub(\"[a-m]\", \"*\",lowercase)\n",
    "print(\"REGULAR EXP-2 : \", lowercase_re1)\n",
    "\n",
    "lowercase_re2 = re.sub(\"/d\",\"-\", lowercase)\n",
    "print(\"REGULAR EXP-3 : \", lowercase)\n",
    "\n",
    "\n",
    "\n",
    "\n",
    "import nltk\n",
    "\n",
    "from nltk import word_tokenize, sent_tokenize\n",
    "\n",
    "\n",
    "\n",
    "word_tokens = word_tokenize(input)\n",
    "print(\"WORD TOKENS : \", word_tokens)\n",
    "\n",
    "sent_tokens = sent_tokenize(input)\n",
    "print(\"SENTENCE TOKENS : \", sent_tokens)\n",
    "print(len(sent_tokens))\n",
    "\n",
    "\n",
    "\n",
    "# stop words\n",
    "\n",
    "from nltk.corpus import stopwords\n",
    "\n",
    "stop_words = set(stopwords.words(\"english\"))\n",
    "\n",
    "tokens_stopwords = []\n",
    "\n",
    "for token in word_tokens:\n",
    "    if token not in stop_words:\n",
    "        tokens_stopwords.append(token)\n",
    "print(\" \".join(tokens_stopwords))"
   ]
  },
  {
   "cell_type": "code",
   "execution_count": 3,
   "id": "bea33c55",
   "metadata": {},
   "outputs": [
    {
     "name": "stdout",
     "output_type": "stream",
     "text": [
      "Stemmed Words :  ['barak', 'obama', '44th', 'presid', 'unit', 'states.and', 'born', 'hawaii.h', 'went', 'prime', 'minist', 'usa', 'year', '2015', '.']\n"
     ]
    }
   ],
   "source": [
    "# stemmer\n",
    "\n",
    "stemming = [ ]\n",
    "from nltk import PorterStemmer\n",
    "\n",
    "for word in tokens_stopwords:\n",
    "    stemming.append(PorterStemmer().stem(word))\n",
    "print(\"Stemmed Words : \", stemming)"
   ]
  },
  {
   "cell_type": "code",
   "execution_count": 4,
   "id": "2c357a02",
   "metadata": {},
   "outputs": [
    {
     "name": "stdout",
     "output_type": "stream",
     "text": [
      "Lemmatized Words :  ['Barak', 'Obama', '44th', 'President', 'United', 'States.And', 'born', 'Hawaii.He', 'went', 'prime', 'minister', 'USA', 'year', '2015', '.']\n"
     ]
    }
   ],
   "source": [
    "#lemmatizer\n",
    "\n",
    "from nltk import WordNetLemmatizer\n",
    "\n",
    "lemmatized_words = []\n",
    "\n",
    "for word in tokens_stopwords:\n",
    "    lemmatized_words.append(WordNetLemmatizer().lemmatize(word))\n",
    "\n",
    "print(\"Lemmatized Words : \", lemmatized_words)\n",
    "\n"
   ]
  },
  {
   "cell_type": "code",
   "execution_count": 7,
   "id": "9590f341",
   "metadata": {},
   "outputs": [
    {
     "data": {
      "text/plain": [
       "[('Barak', 'NNP'),\n",
       " ('Obama', 'NNP'),\n",
       " ('44th', 'CD'),\n",
       " ('President', 'NNP'),\n",
       " ('United', 'NNP'),\n",
       " ('States.And', 'NNP'),\n",
       " ('born', 'NN'),\n",
       " ('Hawaii.He', 'NNP'),\n",
       " ('went', 'VBD'),\n",
       " ('prime', 'JJ'),\n",
       " ('minister', 'NN'),\n",
       " ('USA', 'NNP'),\n",
       " ('year', 'NN'),\n",
       " ('2015', 'CD'),\n",
       " ('.', '.')]"
      ]
     },
     "execution_count": 7,
     "metadata": {},
     "output_type": "execute_result"
    }
   ],
   "source": [
    "from nltk import pos_tag\n",
    "\n",
    "pos_taged = pos_tag(tokens_stopwords)\n",
    "pos_taged"
   ]
  },
  {
   "cell_type": "code",
   "execution_count": 9,
   "id": "698af6be",
   "metadata": {},
   "outputs": [
    {
     "data": {
      "image/svg+xml": [
       "<svg baseProfile=\"full\" height=\"168px\" preserveAspectRatio=\"xMidYMid meet\" style=\"font-family: times, serif; font-weight: normal; font-style: normal; font-size: 16px\" version=\"1.1\" viewBox=\"0,0,968.0,168.0\" width=\"968px\" xmlns=\"http://www.w3.org/2000/svg\" xmlns:ev=\"http://www.w3.org/2001/xml-events\" xmlns:xlink=\"http://www.w3.org/1999/xlink\"><defs /><svg width=\"100%\" x=\"0\" y=\"0px\"><defs /><text text-anchor=\"middle\" x=\"50%\" y=\"16px\">S</text></svg><svg width=\"6.61157%\" x=\"0%\" y=\"48px\"><defs /><svg width=\"100%\" x=\"0\" y=\"0px\"><defs /><text text-anchor=\"middle\" x=\"50%\" y=\"16px\">PERSON</text></svg><svg width=\"100%\" x=\"0%\" y=\"48px\"><defs /><svg width=\"100%\" x=\"0\" y=\"0px\"><defs /><text text-anchor=\"middle\" x=\"50%\" y=\"16px\">Barak</text></svg><svg width=\"100%\" x=\"0%\" y=\"48px\"><defs /><svg width=\"100%\" x=\"0\" y=\"0px\"><defs /><text text-anchor=\"middle\" x=\"50%\" y=\"16px\">NNP</text></svg></svg><line stroke=\"black\" x1=\"50%\" x2=\"50%\" y1=\"20px\" y2=\"48px\" /></svg><line stroke=\"black\" x1=\"50%\" x2=\"50%\" y1=\"20px\" y2=\"48px\" /></svg><line stroke=\"black\" x1=\"50%\" x2=\"3.30579%\" y1=\"20px\" y2=\"48px\" /><svg width=\"5.78512%\" x=\"6.61157%\" y=\"48px\"><defs /><svg width=\"100%\" x=\"0\" y=\"0px\"><defs /><text text-anchor=\"middle\" x=\"50%\" y=\"16px\">Obama</text></svg><svg width=\"100%\" x=\"0%\" y=\"48px\"><defs /><svg width=\"100%\" x=\"0\" y=\"0px\"><defs /><text text-anchor=\"middle\" x=\"50%\" y=\"16px\">NNP</text></svg></svg><line stroke=\"black\" x1=\"50%\" x2=\"50%\" y1=\"20px\" y2=\"48px\" /></svg><line stroke=\"black\" x1=\"50%\" x2=\"9.50413%\" y1=\"20px\" y2=\"48px\" /><svg width=\"4.95868%\" x=\"12.3967%\" y=\"48px\"><defs /><svg width=\"100%\" x=\"0\" y=\"0px\"><defs /><text text-anchor=\"middle\" x=\"50%\" y=\"16px\">44th</text></svg><svg width=\"100%\" x=\"0%\" y=\"48px\"><defs /><svg width=\"100%\" x=\"0\" y=\"0px\"><defs /><text text-anchor=\"middle\" x=\"50%\" y=\"16px\">CD</text></svg></svg><line stroke=\"black\" x1=\"50%\" x2=\"50%\" y1=\"20px\" y2=\"48px\" /></svg><line stroke=\"black\" x1=\"50%\" x2=\"14.876%\" y1=\"20px\" y2=\"48px\" /><svg width=\"9.09091%\" x=\"17.3554%\" y=\"48px\"><defs /><svg width=\"100%\" x=\"0\" y=\"0px\"><defs /><text text-anchor=\"middle\" x=\"50%\" y=\"16px\">President</text></svg><svg width=\"100%\" x=\"0%\" y=\"48px\"><defs /><svg width=\"100%\" x=\"0\" y=\"0px\"><defs /><text text-anchor=\"middle\" x=\"50%\" y=\"16px\">NNP</text></svg></svg><line stroke=\"black\" x1=\"50%\" x2=\"50%\" y1=\"20px\" y2=\"48px\" /></svg><line stroke=\"black\" x1=\"50%\" x2=\"21.9008%\" y1=\"20px\" y2=\"48px\" /><svg width=\"6.61157%\" x=\"26.4463%\" y=\"48px\"><defs /><svg width=\"100%\" x=\"0\" y=\"0px\"><defs /><text text-anchor=\"middle\" x=\"50%\" y=\"16px\">PERSON</text></svg><svg width=\"100%\" x=\"0%\" y=\"48px\"><defs /><svg width=\"100%\" x=\"0\" y=\"0px\"><defs /><text text-anchor=\"middle\" x=\"50%\" y=\"16px\">United</text></svg><svg width=\"100%\" x=\"0%\" y=\"48px\"><defs /><svg width=\"100%\" x=\"0\" y=\"0px\"><defs /><text text-anchor=\"middle\" x=\"50%\" y=\"16px\">NNP</text></svg></svg><line stroke=\"black\" x1=\"50%\" x2=\"50%\" y1=\"20px\" y2=\"48px\" /></svg><line stroke=\"black\" x1=\"50%\" x2=\"50%\" y1=\"20px\" y2=\"48px\" /></svg><line stroke=\"black\" x1=\"50%\" x2=\"29.7521%\" y1=\"20px\" y2=\"48px\" /><svg width=\"9.91736%\" x=\"33.0579%\" y=\"48px\"><defs /><svg width=\"100%\" x=\"0\" y=\"0px\"><defs /><text text-anchor=\"middle\" x=\"50%\" y=\"16px\">States.And</text></svg><svg width=\"100%\" x=\"0%\" y=\"48px\"><defs /><svg width=\"100%\" x=\"0\" y=\"0px\"><defs /><text text-anchor=\"middle\" x=\"50%\" y=\"16px\">NNP</text></svg></svg><line stroke=\"black\" x1=\"50%\" x2=\"50%\" y1=\"20px\" y2=\"48px\" /></svg><line stroke=\"black\" x1=\"50%\" x2=\"38.0165%\" y1=\"20px\" y2=\"48px\" /><svg width=\"4.95868%\" x=\"42.9752%\" y=\"48px\"><defs /><svg width=\"100%\" x=\"0\" y=\"0px\"><defs /><text text-anchor=\"middle\" x=\"50%\" y=\"16px\">born</text></svg><svg width=\"100%\" x=\"0%\" y=\"48px\"><defs /><svg width=\"100%\" x=\"0\" y=\"0px\"><defs /><text text-anchor=\"middle\" x=\"50%\" y=\"16px\">NN</text></svg></svg><line stroke=\"black\" x1=\"50%\" x2=\"50%\" y1=\"20px\" y2=\"48px\" /></svg><line stroke=\"black\" x1=\"50%\" x2=\"45.4545%\" y1=\"20px\" y2=\"48px\" /><svg width=\"9.09091%\" x=\"47.9339%\" y=\"48px\"><defs /><svg width=\"100%\" x=\"0\" y=\"0px\"><defs /><text text-anchor=\"middle\" x=\"50%\" y=\"16px\">Hawaii.He</text></svg><svg width=\"100%\" x=\"0%\" y=\"48px\"><defs /><svg width=\"100%\" x=\"0\" y=\"0px\"><defs /><text text-anchor=\"middle\" x=\"50%\" y=\"16px\">NNP</text></svg></svg><line stroke=\"black\" x1=\"50%\" x2=\"50%\" y1=\"20px\" y2=\"48px\" /></svg><line stroke=\"black\" x1=\"50%\" x2=\"52.4793%\" y1=\"20px\" y2=\"48px\" /><svg width=\"4.95868%\" x=\"57.0248%\" y=\"48px\"><defs /><svg width=\"100%\" x=\"0\" y=\"0px\"><defs /><text text-anchor=\"middle\" x=\"50%\" y=\"16px\">went</text></svg><svg width=\"100%\" x=\"0%\" y=\"48px\"><defs /><svg width=\"100%\" x=\"0\" y=\"0px\"><defs /><text text-anchor=\"middle\" x=\"50%\" y=\"16px\">VBD</text></svg></svg><line stroke=\"black\" x1=\"50%\" x2=\"50%\" y1=\"20px\" y2=\"48px\" /></svg><line stroke=\"black\" x1=\"50%\" x2=\"59.5041%\" y1=\"20px\" y2=\"48px\" /><svg width=\"5.78512%\" x=\"61.9835%\" y=\"48px\"><defs /><svg width=\"100%\" x=\"0\" y=\"0px\"><defs /><text text-anchor=\"middle\" x=\"50%\" y=\"16px\">prime</text></svg><svg width=\"100%\" x=\"0%\" y=\"48px\"><defs /><svg width=\"100%\" x=\"0\" y=\"0px\"><defs /><text text-anchor=\"middle\" x=\"50%\" y=\"16px\">JJ</text></svg></svg><line stroke=\"black\" x1=\"50%\" x2=\"50%\" y1=\"20px\" y2=\"48px\" /></svg><line stroke=\"black\" x1=\"50%\" x2=\"64.876%\" y1=\"20px\" y2=\"48px\" /><svg width=\"8.26446%\" x=\"67.7686%\" y=\"48px\"><defs /><svg width=\"100%\" x=\"0\" y=\"0px\"><defs /><text text-anchor=\"middle\" x=\"50%\" y=\"16px\">minister</text></svg><svg width=\"100%\" x=\"0%\" y=\"48px\"><defs /><svg width=\"100%\" x=\"0\" y=\"0px\"><defs /><text text-anchor=\"middle\" x=\"50%\" y=\"16px\">NN</text></svg></svg><line stroke=\"black\" x1=\"50%\" x2=\"50%\" y1=\"20px\" y2=\"48px\" /></svg><line stroke=\"black\" x1=\"50%\" x2=\"71.9008%\" y1=\"20px\" y2=\"48px\" /><svg width=\"11.5702%\" x=\"76.0331%\" y=\"48px\"><defs /><svg width=\"100%\" x=\"0\" y=\"0px\"><defs /><text text-anchor=\"middle\" x=\"50%\" y=\"16px\">ORGANIZATION</text></svg><svg width=\"100%\" x=\"0%\" y=\"48px\"><defs /><svg width=\"100%\" x=\"0\" y=\"0px\"><defs /><text text-anchor=\"middle\" x=\"50%\" y=\"16px\">USA</text></svg><svg width=\"100%\" x=\"0%\" y=\"48px\"><defs /><svg width=\"100%\" x=\"0\" y=\"0px\"><defs /><text text-anchor=\"middle\" x=\"50%\" y=\"16px\">NNP</text></svg></svg><line stroke=\"black\" x1=\"50%\" x2=\"50%\" y1=\"20px\" y2=\"48px\" /></svg><line stroke=\"black\" x1=\"50%\" x2=\"50%\" y1=\"20px\" y2=\"48px\" /></svg><line stroke=\"black\" x1=\"50%\" x2=\"81.8182%\" y1=\"20px\" y2=\"48px\" /><svg width=\"4.95868%\" x=\"87.6033%\" y=\"48px\"><defs /><svg width=\"100%\" x=\"0\" y=\"0px\"><defs /><text text-anchor=\"middle\" x=\"50%\" y=\"16px\">year</text></svg><svg width=\"100%\" x=\"0%\" y=\"48px\"><defs /><svg width=\"100%\" x=\"0\" y=\"0px\"><defs /><text text-anchor=\"middle\" x=\"50%\" y=\"16px\">NN</text></svg></svg><line stroke=\"black\" x1=\"50%\" x2=\"50%\" y1=\"20px\" y2=\"48px\" /></svg><line stroke=\"black\" x1=\"50%\" x2=\"90.0826%\" y1=\"20px\" y2=\"48px\" /><svg width=\"4.95868%\" x=\"92.562%\" y=\"48px\"><defs /><svg width=\"100%\" x=\"0\" y=\"0px\"><defs /><text text-anchor=\"middle\" x=\"50%\" y=\"16px\">2015</text></svg><svg width=\"100%\" x=\"0%\" y=\"48px\"><defs /><svg width=\"100%\" x=\"0\" y=\"0px\"><defs /><text text-anchor=\"middle\" x=\"50%\" y=\"16px\">CD</text></svg></svg><line stroke=\"black\" x1=\"50%\" x2=\"50%\" y1=\"20px\" y2=\"48px\" /></svg><line stroke=\"black\" x1=\"50%\" x2=\"95.0413%\" y1=\"20px\" y2=\"48px\" /><svg width=\"2.47934%\" x=\"97.5207%\" y=\"48px\"><defs /><svg width=\"100%\" x=\"0\" y=\"0px\"><defs /><text text-anchor=\"middle\" x=\"50%\" y=\"16px\">.</text></svg><svg width=\"100%\" x=\"0%\" y=\"48px\"><defs /><svg width=\"100%\" x=\"0\" y=\"0px\"><defs /><text text-anchor=\"middle\" x=\"50%\" y=\"16px\">.</text></svg></svg><line stroke=\"black\" x1=\"50%\" x2=\"50%\" y1=\"20px\" y2=\"48px\" /></svg><line stroke=\"black\" x1=\"50%\" x2=\"98.7603%\" y1=\"20px\" y2=\"48px\" /></svg>"
      ],
      "text/plain": [
       "Tree('S', [Tree('PERSON', [('Barak', 'NNP')]), ('Obama', 'NNP'), ('44th', 'CD'), ('President', 'NNP'), Tree('PERSON', [('United', 'NNP')]), ('States.And', 'NNP'), ('born', 'NN'), ('Hawaii.He', 'NNP'), ('went', 'VBD'), ('prime', 'JJ'), ('minister', 'NN'), Tree('ORGANIZATION', [('USA', 'NNP')]), ('year', 'NN'), ('2015', 'CD'), ('.', '.')])"
      ]
     },
     "execution_count": 9,
     "metadata": {},
     "output_type": "execute_result"
    }
   ],
   "source": [
    "from nltk import ne_chunk\n",
    "\n",
    "ner = ne_chunk(pos_taged)\n",
    "ner"
   ]
  },
  {
   "cell_type": "code",
   "execution_count": 11,
   "id": "749ba6ec",
   "metadata": {},
   "outputs": [
    {
     "name": "stdout",
     "output_type": "stream",
     "text": [
      "['Barak', 'United', 'USA']\n"
     ]
    }
   ],
   "source": [
    "from nltk.tree import Tree\n",
    "\n",
    "named_entity = []\n",
    "\n",
    "for subtree in ner:\n",
    "    if isinstance(subtree, Tree):\n",
    "        entity = \" \".join([token for token, pos in subtree.leaves()])\n",
    "        named_entity.append(entity)\n",
    "print(named_entity)"
   ]
  },
  {
   "cell_type": "code",
   "execution_count": null,
   "id": "707cffe2",
   "metadata": {},
   "outputs": [],
   "source": []
  }
 ],
 "metadata": {
  "kernelspec": {
   "display_name": "Python 3",
   "language": "python",
   "name": "python3"
  },
  "language_info": {
   "codemirror_mode": {
    "name": "ipython",
    "version": 3
   },
   "file_extension": ".py",
   "mimetype": "text/x-python",
   "name": "python",
   "nbconvert_exporter": "python",
   "pygments_lexer": "ipython3",
   "version": "3.12.4"
  }
 },
 "nbformat": 4,
 "nbformat_minor": 5
}
