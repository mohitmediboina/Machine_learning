{
 "cells": [
  {
   "cell_type": "code",
   "execution_count": 5,
   "id": "3b206c33",
   "metadata": {},
   "outputs": [
    {
     "name": "stdout",
     "output_type": "stream",
     "text": [
      "Barak Obama is the 44th President of the United States.And he was born in Hawaii.He  went as a prime minister of USA in the year of 2015 .\n"
     ]
    }
   ],
   "source": [
    "input = \"Barak Obama is the 44th President of the United States.And he was born in Hawaii.He  went as a prime minister of USA in the year of 2015 .\"\n",
    "\n",
    "print(input)"
   ]
  },
  {
   "cell_type": "code",
   "execution_count": 11,
   "id": "21ef5f00",
   "metadata": {},
   "outputs": [
    {
     "name": "stdout",
     "output_type": "stream",
     "text": [
      "LOWERCASE :  barak obama is the 44th president of the united states.and he was born in hawaii.he  went as a prime minister of usa in the year of 2015 .\n",
      "REGULAR EXP-1 :  barak obama is the Forty Forthth president of the united states.and he was born in hawaii.he  went as a prime minister of usa in the year of 2015 .\n",
      "REGULAR EXP-2 :  **r** o**** *s t** 44t* pr*s***nt o* t** un*t** st*t*s.*n* ** w*s *orn *n **w***.**  w*nt *s * pr*** **n*st*r o* us* *n t** y**r o* 2015 .\n",
      "REGULAR EXP-3 :  barak obama is the 44th president of the united states.and he was born in hawaii.he  went as a prime minister of usa in the year of 2015 .\n"
     ]
    }
   ],
   "source": [
    "# 1 lowercase\n",
    "\n",
    "lowercase = input.lower()\n",
    "print(\"LOWERCASE : \",lowercase)\n",
    "\n",
    "import re\n",
    "lowercase_re = re.sub(\"44\", \"Forty Forth\", lowercase)\n",
    "print(\"REGULAR EXP-1 : \",lowercase_re)\n",
    "\n",
    "lowercase_re1 = re.sub(\"[a-m]\", \"*\",lowercase)\n",
    "print(\"REGULAR EXP-2 : \", lowercase_re1)\n",
    "\n",
    "lowercase_re2 = re.sub(\"/d\",\"-\", lowercase)\n",
    "print(\"REGULAR EXP-3 : \", lowercase)"
   ]
  },
  {
   "cell_type": "code",
   "execution_count": 12,
   "id": "c8d88f65",
   "metadata": {},
   "outputs": [
    {
     "name": "stdout",
     "output_type": "stream",
     "text": [
      "WORD TOKENS :  ['Barak', 'Obama', 'is', 'the', '44th', 'President', 'of', 'the', 'United', 'States.And', 'he', 'was', 'born', 'in', 'Hawaii.He', 'went', 'as', 'a', 'prime', 'minister', 'of', 'USA', 'in', 'the', 'year', 'of', '2015', '.']\n",
      "SENTENCE TOKENS :  ['Barak Obama is the 44th President of the United States.And he was born in Hawaii.He  went as a prime minister of USA in the year of 2015 .']\n",
      "1\n"
     ]
    }
   ],
   "source": [
    "# Tokenization\n",
    "\n",
    "import nltk\n",
    "\n",
    "from nltk import word_tokenize, sent_tokenize\n",
    "\n",
    "\n",
    "\n",
    "word_tokens = word_tokenize(input)\n",
    "print(\"WORD TOKENS : \", word_tokens)\n",
    "\n",
    "sent_tokens = sent_tokenize(input)\n",
    "print(\"SENTENCE TOKENS : \", sent_tokens)\n",
    "print(len(sent_tokens))\n",
    "\n"
   ]
  },
  {
   "cell_type": "code",
   "execution_count": 14,
   "id": "e220385c",
   "metadata": {},
   "outputs": [
    {
     "name": "stdout",
     "output_type": "stream",
     "text": [
      "Barak Obama 44th President United States.And born Hawaii.He went prime minister USA year 2015 .\n"
     ]
    }
   ],
   "source": [
    "# stop words\n",
    "\n",
    "from nltk.corpus import stopwords\n",
    "\n",
    "stop_words = set(stopwords.words(\"english\"))\n",
    "\n",
    "tokens_stopwords = []\n",
    "\n",
    "for token in word_tokens:\n",
    "    if token not in stop_words:\n",
    "        tokens_stopwords.append(token)\n",
    "print(\" \".join(tokens_stopwords))"
   ]
  },
  {
   "cell_type": "code",
   "execution_count": null,
   "id": "bcc19ec0",
   "metadata": {},
   "outputs": [
    {
     "name": "stdout",
     "output_type": "stream",
     "text": [
      "Stemmed Words :  ['barak', 'obama', '44th', 'presid', 'unit', 'states.and', 'born', 'hawaii.h', 'went', 'prime', 'minist', 'usa', 'year', '2015', '.']\n"
     ]
    }
   ],
   "source": []
  },
  {
   "cell_type": "code",
   "execution_count": null,
   "id": "5e02c249",
   "metadata": {},
   "outputs": [
    {
     "name": "stdout",
     "output_type": "stream",
     "text": [
      "Lemmatized Words :  ['Barak', 'Obama', '44th', 'President', 'United', 'States.And', 'born', 'Hawaii.He', 'went', 'prime', 'minister', 'USA', 'year', '2015', '.']\n"
     ]
    }
   ],
   "source": []
  },
  {
   "cell_type": "code",
   "execution_count": 18,
   "id": "4c528b39",
   "metadata": {},
   "outputs": [
    {
     "name": "stdout",
     "output_type": "stream",
     "text": [
      "[('Barak', 'NNP'), ('Obama', 'NNP'), ('is', 'VBZ'), ('the', 'DT'), ('44th', 'JJ'), ('President', 'NNP'), ('of', 'IN'), ('the', 'DT'), ('United', 'NNP'), ('States.And', 'NNP'), ('he', 'PRP'), ('was', 'VBD'), ('born', 'VBN'), ('in', 'IN'), ('Hawaii.He', 'NNP'), ('went', 'VBD'), ('as', 'IN'), ('a', 'DT'), ('prime', 'JJ'), ('minister', 'NN'), ('of', 'IN'), ('USA', 'NNP'), ('in', 'IN'), ('the', 'DT'), ('year', 'NN'), ('of', 'IN'), ('2015', 'CD'), ('.', '.')]\n"
     ]
    }
   ],
   "source": [
    "# pos Tags \n",
    "\n",
    "from nltk import pos_tag\n",
    "\n",
    "print(pos_tag(word_tokens))"
   ]
  }
 ],
 "metadata": {
  "kernelspec": {
   "display_name": "Python 3",
   "language": "python",
   "name": "python3"
  },
  "language_info": {
   "codemirror_mode": {
    "name": "ipython",
    "version": 3
   },
   "file_extension": ".py",
   "mimetype": "text/x-python",
   "name": "python",
   "nbconvert_exporter": "python",
   "pygments_lexer": "ipython3",
   "version": "3.12.4"
  }
 },
 "nbformat": 4,
 "nbformat_minor": 5
}
